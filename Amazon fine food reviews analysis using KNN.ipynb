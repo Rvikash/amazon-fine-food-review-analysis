{
 "cells": [
  {
   "cell_type": "markdown",
   "metadata": {
    "_uuid": "3fbf4765e0efd9f31ace2169836faefa0086c06f"
   },
   "source": [
    "# Amazon fine food review - sentimental analysis using KNN"
   ]
  },
  {
   "cell_type": "markdown",
   "metadata": {
    "_uuid": "7d95f10102e62638302920b088c7a6e50b6b4ef3"
   },
   "source": [
    "This dataset consists of reviews of fine foods from amazon. The data span a period of more than 10 years, including all ~500,000 reviews up to October 2012. Reviews include product and user information, ratings, and a plain text review. It also includes reviews from all other Amazon categories. "
   ]
  },
  {
   "cell_type": "markdown",
   "metadata": {
    "_uuid": "35c6b5545af23c6157eb5b12a32573122753f222"
   },
   "source": [
    "# Overview"
   ]
  },
  {
   "cell_type": "markdown",
   "metadata": {
    "_uuid": "29a9b8996005f7671ba92082084dc2abbb80ad4d"
   },
   "source": [
    "This Dataset contains 10 features/independent variables/predictors etc. We will look at the reviews of each and every customers and will analyze them using k-nearest neighbors algorithm for now and in next part we will apply algorithms like naive bayes, logistic regression, svm, decision tree etc.\n",
    "\n",
    "\n",
    "<br>**Id** Row Id </br>\n",
    "<br>**ProductId** Unique identifier for the product </br>\n",
    "<br>**UserId** Unqiue identifier for the user</br>\n",
    "<br>**ProfileName** Profile name of the user</br>\n",
    "<br>**HelpfulnessNumerator** Number of users who found the review helpful</br>\n",
    "<br>**HelpfulnessDenominator** Number of users who indicated whether they found the review helpful</br>\n",
    "<br>**Score** Rating between 1 and 5</br>\n",
    "<br>**Time** Timestamp for the review</br>\n",
    "<br>**Summary** Brief summary of the review</br>\n",
    "<br>**Text** Text of the review</br>"
   ]
  },
  {
   "cell_type": "markdown",
   "metadata": {
    "_uuid": "22d6d5ed06ef52279a3756c213fec9c271f06e06"
   },
   "source": [
    "<br> **Objective** </br>\n",
    "\n",
    "We should never forget our obective,  If foget, we may not reach to destination. So, here our objective is to predict whether a review is **-ve(Rating 1 or 2) or +ve(Rating 4 or 5 )**. let's get started..."
   ]
  },
  {
   "cell_type": "markdown",
   "metadata": {
    "_uuid": "27ca1d4f5236e6624baea16ce2e15f3e8714d5e2"
   },
   "source": [
    "# Table of Content"
   ]
  },
  {
   "cell_type": "markdown",
   "metadata": {
    "_uuid": "502def2c04256ddf766441dfe958e82e40c0f7aa"
   },
   "source": [
    "1.  Loading dataset\n",
    "2.  Data Preprocessing()\n",
    "3. Cross-Validation to find optimal K value\n",
    "4. Apply KNN\n",
    "    * KNN Model on Bow(bag of words)\n",
    "    * KNN Model on TFIDF(2-gram) \n",
    "5. Score Prediction\n",
    "6. Confusion Matrix "
   ]
  },
  {
   "cell_type": "markdown",
   "metadata": {
    "_uuid": "5bf0c040b273b05a69eac414dbd749981f4f4911"
   },
   "source": [
    "\n"
   ]
  },
  {
   "cell_type": "code",
   "execution_count": 3,
   "metadata": {
    "_uuid": "aa9f60301fdb3ae48c5c5389194fc8110262a074"
   },
   "outputs": [],
   "source": [
    "# imported necessary libraries\n",
    "import numpy as np\n",
    "import pandas as pd\n",
    "import sqlite3\n",
    "import matplotlib.pyplot as plt\n",
    "from sklearn.neighbors import KNeighborsClassifier\n",
    "from sklearn.metrics import accuracy_score\n",
    "from sklearn.model_selection import train_test_split\n",
    "from sklearn.model_selection import cross_val_score\n",
    "from collections import Counter\n",
    "from sklearn.metrics import accuracy_score\n",
    "from sklearn import model_selection\n"
   ]
  },
  {
   "cell_type": "code",
   "execution_count": 6,
   "metadata": {
    "_uuid": "73f9724bd7d9f9bfa834ee0b2cde187e085bfa6d"
   },
   "outputs": [],
   "source": [
    "con = sqlite3.connect('./database.sqlite')\n",
    "\n",
    "filtered_data = pd.read_sql_query(\"\"\"SELECT * FROM Reviews WHERE Score != 3\"\"\", con) \n",
    "\n",
    "# Give reviews with Score>3 a positive rating, and reviews with a score<3 a negative rating.\n",
    "def partition(x):\n",
    "    if x < 3:\n",
    "        return 'negative'\n",
    "    return 'positive'\n",
    "\n",
    "#changing reviews with score less than 3 to be positive and vice-versa\n",
    "actualScore = filtered_data['Score']\n",
    "positiveNegative = actualScore.map(partition) \n",
    "filtered_data['Score'] = positiveNegative"
   ]
  },
  {
   "cell_type": "code",
   "execution_count": 7,
   "metadata": {
    "_uuid": "9841d50669ec83a127afb200c662a543cf5ad107"
   },
   "outputs": [
    {
     "data": {
      "text/html": [
       "<div>\n",
       "<style>\n",
       "    .dataframe thead tr:only-child th {\n",
       "        text-align: right;\n",
       "    }\n",
       "\n",
       "    .dataframe thead th {\n",
       "        text-align: left;\n",
       "    }\n",
       "\n",
       "    .dataframe tbody tr th {\n",
       "        vertical-align: top;\n",
       "    }\n",
       "</style>\n",
       "<table border=\"1\" class=\"dataframe\">\n",
       "  <thead>\n",
       "    <tr style=\"text-align: right;\">\n",
       "      <th></th>\n",
       "      <th>Id</th>\n",
       "      <th>ProductId</th>\n",
       "      <th>UserId</th>\n",
       "      <th>ProfileName</th>\n",
       "      <th>HelpfulnessNumerator</th>\n",
       "      <th>HelpfulnessDenominator</th>\n",
       "      <th>Score</th>\n",
       "      <th>Time</th>\n",
       "      <th>Summary</th>\n",
       "      <th>Text</th>\n",
       "    </tr>\n",
       "  </thead>\n",
       "  <tbody>\n",
       "    <tr>\n",
       "      <th>0</th>\n",
       "      <td>1</td>\n",
       "      <td>B001E4KFG0</td>\n",
       "      <td>A3SGXH7AUHU8GW</td>\n",
       "      <td>delmartian</td>\n",
       "      <td>1</td>\n",
       "      <td>1</td>\n",
       "      <td>positive</td>\n",
       "      <td>1303862400</td>\n",
       "      <td>Good Quality Dog Food</td>\n",
       "      <td>I have bought several of the Vitality canned d...</td>\n",
       "    </tr>\n",
       "    <tr>\n",
       "      <th>1</th>\n",
       "      <td>2</td>\n",
       "      <td>B00813GRG4</td>\n",
       "      <td>A1D87F6ZCVE5NK</td>\n",
       "      <td>dll pa</td>\n",
       "      <td>0</td>\n",
       "      <td>0</td>\n",
       "      <td>negative</td>\n",
       "      <td>1346976000</td>\n",
       "      <td>Not as Advertised</td>\n",
       "      <td>Product arrived labeled as Jumbo Salted Peanut...</td>\n",
       "    </tr>\n",
       "    <tr>\n",
       "      <th>2</th>\n",
       "      <td>3</td>\n",
       "      <td>B000LQOCH0</td>\n",
       "      <td>ABXLMWJIXXAIN</td>\n",
       "      <td>Natalia Corres \"Natalia Corres\"</td>\n",
       "      <td>1</td>\n",
       "      <td>1</td>\n",
       "      <td>positive</td>\n",
       "      <td>1219017600</td>\n",
       "      <td>\"Delight\" says it all</td>\n",
       "      <td>This is a confection that has been around a fe...</td>\n",
       "    </tr>\n",
       "    <tr>\n",
       "      <th>3</th>\n",
       "      <td>4</td>\n",
       "      <td>B000UA0QIQ</td>\n",
       "      <td>A395BORC6FGVXV</td>\n",
       "      <td>Karl</td>\n",
       "      <td>3</td>\n",
       "      <td>3</td>\n",
       "      <td>negative</td>\n",
       "      <td>1307923200</td>\n",
       "      <td>Cough Medicine</td>\n",
       "      <td>If you are looking for the secret ingredient i...</td>\n",
       "    </tr>\n",
       "    <tr>\n",
       "      <th>4</th>\n",
       "      <td>5</td>\n",
       "      <td>B006K2ZZ7K</td>\n",
       "      <td>A1UQRSCLF8GW1T</td>\n",
       "      <td>Michael D. Bigham \"M. Wassir\"</td>\n",
       "      <td>0</td>\n",
       "      <td>0</td>\n",
       "      <td>positive</td>\n",
       "      <td>1350777600</td>\n",
       "      <td>Great taffy</td>\n",
       "      <td>Great taffy at a great price.  There was a wid...</td>\n",
       "    </tr>\n",
       "  </tbody>\n",
       "</table>\n",
       "</div>"
      ],
      "text/plain": [
       "   Id   ProductId          UserId                      ProfileName  \\\n",
       "0   1  B001E4KFG0  A3SGXH7AUHU8GW                       delmartian   \n",
       "1   2  B00813GRG4  A1D87F6ZCVE5NK                           dll pa   \n",
       "2   3  B000LQOCH0   ABXLMWJIXXAIN  Natalia Corres \"Natalia Corres\"   \n",
       "3   4  B000UA0QIQ  A395BORC6FGVXV                             Karl   \n",
       "4   5  B006K2ZZ7K  A1UQRSCLF8GW1T    Michael D. Bigham \"M. Wassir\"   \n",
       "\n",
       "   HelpfulnessNumerator  HelpfulnessDenominator     Score        Time  \\\n",
       "0                     1                       1  positive  1303862400   \n",
       "1                     0                       0  negative  1346976000   \n",
       "2                     1                       1  positive  1219017600   \n",
       "3                     3                       3  negative  1307923200   \n",
       "4                     0                       0  positive  1350777600   \n",
       "\n",
       "                 Summary                                               Text  \n",
       "0  Good Quality Dog Food  I have bought several of the Vitality canned d...  \n",
       "1      Not as Advertised  Product arrived labeled as Jumbo Salted Peanut...  \n",
       "2  \"Delight\" says it all  This is a confection that has been around a fe...  \n",
       "3         Cough Medicine  If you are looking for the secret ingredient i...  \n",
       "4            Great taffy  Great taffy at a great price.  There was a wid...  "
      ]
     },
     "execution_count": 7,
     "metadata": {},
     "output_type": "execute_result"
    }
   ],
   "source": [
    "filtered_data.shape #looking at the number of attributes and size of the data\n",
    "filtered_data.head()"
   ]
  },
  {
   "cell_type": "markdown",
   "metadata": {
    "_uuid": "b82aa5dc19178eb8547625bee32b0504f58e241d"
   },
   "source": [
    "# Exploratory Data Analysis\n",
    "# Data Cleaning: Deduplication\n",
    "\n",
    "It is observed (as shown in the table below) that the reviews data had many duplicate entries. Hence it was necessary to remove duplicates in order to get unbiased results for the analysis of the data. Following is an example:\n"
   ]
  },
  {
   "cell_type": "code",
   "execution_count": 8,
   "metadata": {
    "_uuid": "6b6c3b7215022f5c2fa9994e5a543b6318ff2501"
   },
   "outputs": [
    {
     "data": {
      "text/html": [
       "<div>\n",
       "<style>\n",
       "    .dataframe thead tr:only-child th {\n",
       "        text-align: right;\n",
       "    }\n",
       "\n",
       "    .dataframe thead th {\n",
       "        text-align: left;\n",
       "    }\n",
       "\n",
       "    .dataframe tbody tr th {\n",
       "        vertical-align: top;\n",
       "    }\n",
       "</style>\n",
       "<table border=\"1\" class=\"dataframe\">\n",
       "  <thead>\n",
       "    <tr style=\"text-align: right;\">\n",
       "      <th></th>\n",
       "      <th>Id</th>\n",
       "      <th>ProductId</th>\n",
       "      <th>UserId</th>\n",
       "      <th>ProfileName</th>\n",
       "      <th>HelpfulnessNumerator</th>\n",
       "      <th>HelpfulnessDenominator</th>\n",
       "      <th>Score</th>\n",
       "      <th>Time</th>\n",
       "      <th>Summary</th>\n",
       "      <th>Text</th>\n",
       "    </tr>\n",
       "  </thead>\n",
       "  <tbody>\n",
       "    <tr>\n",
       "      <th>0</th>\n",
       "      <td>78445</td>\n",
       "      <td>B000HDL1RQ</td>\n",
       "      <td>AR5J8UI46CURR</td>\n",
       "      <td>Geetha Krishnan</td>\n",
       "      <td>2</td>\n",
       "      <td>2</td>\n",
       "      <td>5</td>\n",
       "      <td>1199577600</td>\n",
       "      <td>LOACKER QUADRATINI VANILLA WAFERS</td>\n",
       "      <td>DELICIOUS WAFERS. I FIND THAT EUROPEAN WAFERS ...</td>\n",
       "    </tr>\n",
       "    <tr>\n",
       "      <th>1</th>\n",
       "      <td>138317</td>\n",
       "      <td>B000HDOPYC</td>\n",
       "      <td>AR5J8UI46CURR</td>\n",
       "      <td>Geetha Krishnan</td>\n",
       "      <td>2</td>\n",
       "      <td>2</td>\n",
       "      <td>5</td>\n",
       "      <td>1199577600</td>\n",
       "      <td>LOACKER QUADRATINI VANILLA WAFERS</td>\n",
       "      <td>DELICIOUS WAFERS. I FIND THAT EUROPEAN WAFERS ...</td>\n",
       "    </tr>\n",
       "    <tr>\n",
       "      <th>2</th>\n",
       "      <td>138277</td>\n",
       "      <td>B000HDOPYM</td>\n",
       "      <td>AR5J8UI46CURR</td>\n",
       "      <td>Geetha Krishnan</td>\n",
       "      <td>2</td>\n",
       "      <td>2</td>\n",
       "      <td>5</td>\n",
       "      <td>1199577600</td>\n",
       "      <td>LOACKER QUADRATINI VANILLA WAFERS</td>\n",
       "      <td>DELICIOUS WAFERS. I FIND THAT EUROPEAN WAFERS ...</td>\n",
       "    </tr>\n",
       "    <tr>\n",
       "      <th>3</th>\n",
       "      <td>73791</td>\n",
       "      <td>B000HDOPZG</td>\n",
       "      <td>AR5J8UI46CURR</td>\n",
       "      <td>Geetha Krishnan</td>\n",
       "      <td>2</td>\n",
       "      <td>2</td>\n",
       "      <td>5</td>\n",
       "      <td>1199577600</td>\n",
       "      <td>LOACKER QUADRATINI VANILLA WAFERS</td>\n",
       "      <td>DELICIOUS WAFERS. I FIND THAT EUROPEAN WAFERS ...</td>\n",
       "    </tr>\n",
       "    <tr>\n",
       "      <th>4</th>\n",
       "      <td>155049</td>\n",
       "      <td>B000PAQ75C</td>\n",
       "      <td>AR5J8UI46CURR</td>\n",
       "      <td>Geetha Krishnan</td>\n",
       "      <td>2</td>\n",
       "      <td>2</td>\n",
       "      <td>5</td>\n",
       "      <td>1199577600</td>\n",
       "      <td>LOACKER QUADRATINI VANILLA WAFERS</td>\n",
       "      <td>DELICIOUS WAFERS. I FIND THAT EUROPEAN WAFERS ...</td>\n",
       "    </tr>\n",
       "  </tbody>\n",
       "</table>\n",
       "</div>"
      ],
      "text/plain": [
       "       Id   ProductId         UserId      ProfileName  HelpfulnessNumerator  \\\n",
       "0   78445  B000HDL1RQ  AR5J8UI46CURR  Geetha Krishnan                     2   \n",
       "1  138317  B000HDOPYC  AR5J8UI46CURR  Geetha Krishnan                     2   \n",
       "2  138277  B000HDOPYM  AR5J8UI46CURR  Geetha Krishnan                     2   \n",
       "3   73791  B000HDOPZG  AR5J8UI46CURR  Geetha Krishnan                     2   \n",
       "4  155049  B000PAQ75C  AR5J8UI46CURR  Geetha Krishnan                     2   \n",
       "\n",
       "   HelpfulnessDenominator  Score        Time  \\\n",
       "0                       2      5  1199577600   \n",
       "1                       2      5  1199577600   \n",
       "2                       2      5  1199577600   \n",
       "3                       2      5  1199577600   \n",
       "4                       2      5  1199577600   \n",
       "\n",
       "                             Summary  \\\n",
       "0  LOACKER QUADRATINI VANILLA WAFERS   \n",
       "1  LOACKER QUADRATINI VANILLA WAFERS   \n",
       "2  LOACKER QUADRATINI VANILLA WAFERS   \n",
       "3  LOACKER QUADRATINI VANILLA WAFERS   \n",
       "4  LOACKER QUADRATINI VANILLA WAFERS   \n",
       "\n",
       "                                                Text  \n",
       "0  DELICIOUS WAFERS. I FIND THAT EUROPEAN WAFERS ...  \n",
       "1  DELICIOUS WAFERS. I FIND THAT EUROPEAN WAFERS ...  \n",
       "2  DELICIOUS WAFERS. I FIND THAT EUROPEAN WAFERS ...  \n",
       "3  DELICIOUS WAFERS. I FIND THAT EUROPEAN WAFERS ...  \n",
       "4  DELICIOUS WAFERS. I FIND THAT EUROPEAN WAFERS ...  "
      ]
     },
     "execution_count": 8,
     "metadata": {},
     "output_type": "execute_result"
    }
   ],
   "source": [
    "display= pd.read_sql_query(\"\"\"\n",
    "SELECT *\n",
    "FROM Reviews\n",
    "WHERE Score != 3 AND UserId=\"AR5J8UI46CURR\"\n",
    "ORDER BY ProductID\n",
    "\"\"\", con)\n",
    "display"
   ]
  },
  {
   "cell_type": "markdown",
   "metadata": {
    "_uuid": "27a3d8b23cad684267041f38700b627583bd4b6d"
   },
   "source": [
    "As can be seen above the same user has multiple reviews of the with the same values for HelpfulnessNumerator, HelpfulnessDenominator, Score, Time, Summary and Text  and on doing analysis it was found that <br>\n",
    "<br> \n",
    "ProductId=B000HDOPZG was Loacker Quadratini Vanilla Wafer Cookies, 8.82-Ounce Packages (Pack of 8)<br>\n",
    "<br> \n",
    "ProductId=B000HDL1RQ was Loacker Quadratini Lemon Wafer Cookies, 8.82-Ounce Packages (Pack of 8) and so on<br>\n",
    "\n",
    "It was inferred after analysis that reviews with same parameters other than ProductId belonged to the same product just having different flavour or quantity. Hence in order to reduce redundancy it was decided to eliminate the rows having same parameters.<br>\n",
    "\n",
    "The method used for the same was that we first sort the data according to ProductId and then just keep the first similar product review and delelte the others. for eg. in the above just the review for ProductId=B000HDL1RQ remains. This method ensures that there is only one representative for each product and deduplication without sorting would lead to possibility of different representatives still existing for the same product."
   ]
  },
  {
   "cell_type": "code",
   "execution_count": 9,
   "metadata": {
    "_uuid": "e55fc8483dd5468ed012e21e38d18ddae1b34d19",
    "collapsed": true
   },
   "outputs": [],
   "source": [
    "#Sorting data according to ProductId in ascending order\n",
    "sorted_data = filtered_data.sort_values('ProductId', axis=0, ascending=True, inplace=False, kind='quicksort', na_position='last')"
   ]
  },
  {
   "cell_type": "code",
   "execution_count": 10,
   "metadata": {
    "_uuid": "788b9dc03f947fe45b0d75ddd1c8bbc503668dc3"
   },
   "outputs": [
    {
     "data": {
      "text/plain": [
       "(364173, 10)"
      ]
     },
     "execution_count": 10,
     "metadata": {},
     "output_type": "execute_result"
    }
   ],
   "source": [
    "#Deduplication of entries\n",
    "final = sorted_data.drop_duplicates(subset = {\"UserId\",\"ProfileName\",\"Time\",\"Text\"}, keep ='first', inplace=False)\n",
    "final.shape"
   ]
  },
  {
   "cell_type": "code",
   "execution_count": 11,
   "metadata": {
    "_uuid": "f8b1a86d5d248115b7c805e93e004f0d447f7fbf"
   },
   "outputs": [
    {
     "data": {
      "text/plain": [
       "69.25890143662969"
      ]
     },
     "execution_count": 11,
     "metadata": {},
     "output_type": "execute_result"
    }
   ],
   "source": [
    "#Checking to see how much % of data still remains\n",
    "(final['Id'].size*1.0)/(filtered_data['Id'].size*1.0)*100"
   ]
  },
  {
   "cell_type": "markdown",
   "metadata": {
    "_uuid": "f60c10fbbba5cad0aa3b0e14685f156e0ec1db21"
   },
   "source": [
    "Observation:- It was also seen that in two rows given below the value of HelpfulnessNumerator is greater than HelpfulnessDenominator which is not practically possible hence these two rows too are removed from calcualtions"
   ]
  },
  {
   "cell_type": "code",
   "execution_count": 12,
   "metadata": {
    "_uuid": "59f67a4ae0d67dc7b850226ae27d83ed2ba99475"
   },
   "outputs": [
    {
     "data": {
      "text/html": [
       "<div>\n",
       "<style>\n",
       "    .dataframe thead tr:only-child th {\n",
       "        text-align: right;\n",
       "    }\n",
       "\n",
       "    .dataframe thead th {\n",
       "        text-align: left;\n",
       "    }\n",
       "\n",
       "    .dataframe tbody tr th {\n",
       "        vertical-align: top;\n",
       "    }\n",
       "</style>\n",
       "<table border=\"1\" class=\"dataframe\">\n",
       "  <thead>\n",
       "    <tr style=\"text-align: right;\">\n",
       "      <th></th>\n",
       "      <th>Id</th>\n",
       "      <th>ProductId</th>\n",
       "      <th>UserId</th>\n",
       "      <th>ProfileName</th>\n",
       "      <th>HelpfulnessNumerator</th>\n",
       "      <th>HelpfulnessDenominator</th>\n",
       "      <th>Score</th>\n",
       "      <th>Time</th>\n",
       "      <th>Summary</th>\n",
       "      <th>Text</th>\n",
       "    </tr>\n",
       "  </thead>\n",
       "  <tbody>\n",
       "    <tr>\n",
       "      <th>0</th>\n",
       "      <td>64422</td>\n",
       "      <td>B000MIDROQ</td>\n",
       "      <td>A161DK06JJMCYF</td>\n",
       "      <td>J. E. Stephens \"Jeanne\"</td>\n",
       "      <td>3</td>\n",
       "      <td>1</td>\n",
       "      <td>5</td>\n",
       "      <td>1224892800</td>\n",
       "      <td>Bought This for My Son at College</td>\n",
       "      <td>My son loves spaghetti so I didn't hesitate or...</td>\n",
       "    </tr>\n",
       "    <tr>\n",
       "      <th>1</th>\n",
       "      <td>44737</td>\n",
       "      <td>B001EQ55RW</td>\n",
       "      <td>A2V0I904FH7ABY</td>\n",
       "      <td>Ram</td>\n",
       "      <td>3</td>\n",
       "      <td>2</td>\n",
       "      <td>4</td>\n",
       "      <td>1212883200</td>\n",
       "      <td>Pure cocoa taste with crunchy almonds inside</td>\n",
       "      <td>It was almost a 'love at first bite' - the per...</td>\n",
       "    </tr>\n",
       "  </tbody>\n",
       "</table>\n",
       "</div>"
      ],
      "text/plain": [
       "      Id   ProductId          UserId              ProfileName  \\\n",
       "0  64422  B000MIDROQ  A161DK06JJMCYF  J. E. Stephens \"Jeanne\"   \n",
       "1  44737  B001EQ55RW  A2V0I904FH7ABY                      Ram   \n",
       "\n",
       "   HelpfulnessNumerator  HelpfulnessDenominator  Score        Time  \\\n",
       "0                     3                       1      5  1224892800   \n",
       "1                     3                       2      4  1212883200   \n",
       "\n",
       "                                        Summary  \\\n",
       "0             Bought This for My Son at College   \n",
       "1  Pure cocoa taste with crunchy almonds inside   \n",
       "\n",
       "                                                Text  \n",
       "0  My son loves spaghetti so I didn't hesitate or...  \n",
       "1  It was almost a 'love at first bite' - the per...  "
      ]
     },
     "execution_count": 12,
     "metadata": {},
     "output_type": "execute_result"
    }
   ],
   "source": [
    "display= pd.read_sql_query(\"\"\"\n",
    "SELECT *\n",
    "FROM Reviews\n",
    "WHERE Score != 3 AND Id=44737 OR Id=64422\n",
    "ORDER BY ProductID\n",
    "\"\"\", con)\n",
    "display"
   ]
  },
  {
   "cell_type": "code",
   "execution_count": 13,
   "metadata": {
    "_uuid": "3ba5f685df83a007825745d0fa1a4351ac76f2bb",
    "collapsed": true
   },
   "outputs": [],
   "source": [
    "final=final[final.HelpfulnessNumerator<=final.HelpfulnessDenominator]"
   ]
  },
  {
   "cell_type": "code",
   "execution_count": 14,
   "metadata": {
    "_uuid": "543377780a9c746c04f7885fc5ae213ab1c56a16"
   },
   "outputs": [
    {
     "name": "stdout",
     "output_type": "stream",
     "text": [
      "(364171, 10)\n"
     ]
    },
    {
     "data": {
      "text/plain": [
       "positive    307061\n",
       "negative     57110\n",
       "Name: Score, dtype: int64"
      ]
     },
     "execution_count": 14,
     "metadata": {},
     "output_type": "execute_result"
    }
   ],
   "source": [
    "#Before starting the next phase of preprocessing lets see the number of entries left\n",
    "print(final.shape)\n",
    "\n",
    "#How many positive and negative reviews are present in our dataset?\n",
    "final['Score'].value_counts()"
   ]
  },
  {
   "cell_type": "markdown",
   "metadata": {
    "_uuid": "77e0cc75e654bbe54fd8d70f40603a00d2b3dbc2"
   },
   "source": [
    "# Text Preprocessing: Stemming, stop-word removal and Lemmatization.\n",
    "\n",
    "Now that we have finished deduplication our data requires some preprocessing before we go on further with analysis and making the prediction model.\n",
    "\n",
    "Hence in the Preprocessing phase we do the following in the order below:-\n",
    "\n",
    "1. Begin by removing the html tags\n",
    "2. Remove any punctuations or limited set of special characters like , or . or # etc.\n",
    "3. Check if the word is made up of english letters and is not alpha-numeric\n",
    "4. Check to see if the length of the word is greater than 2 (as it was researched that there is no adjective in 2-letters)\n",
    "5. Convert the word to lowercase\n",
    "6. Remove Stopwords\n",
    "7. Finally Snowball Stemming the word (it was obsereved to be better than Porter Stemming)<br>\n",
    "\n",
    "After which we collect the words used to describe positive and negative reviews"
   ]
  },
  {
   "cell_type": "code",
   "execution_count": 15,
   "metadata": {
    "_uuid": "ccfe3730aac28ef721459297ef42afb005f3fcb3"
   },
   "outputs": [
    {
     "name": "stdout",
     "output_type": "stream",
     "text": [
      "6\n",
      "I set aside at least an hour each day to read to my son (3 y/o). At this point, I consider myself a connoisseur of children's books and this is one of the best. Santa Clause put this under the tree. Since then, we've read it perpetually and he loves it.<br /><br />First, this book taught him the months of the year.<br /><br />Second, it's a pleasure to read. Well suited to 1.5 y/o old to 4+.<br /><br />Very few children's books are worth owning. Most should be borrowed from the library. This book, however, deserves a permanent spot on your shelf. Sendak's best.\n"
     ]
    }
   ],
   "source": [
    "# find sentences containing HTML tags\n",
    "import re\n",
    "i=0;\n",
    "for sent in final['Text'].values:\n",
    "    if (len(re.findall('<.*?>', sent))):\n",
    "        print(i)\n",
    "        print(sent)\n",
    "        break;\n",
    "    i += 1;    "
   ]
  },
  {
   "cell_type": "code",
   "execution_count": 16,
   "metadata": {
    "_uuid": "bbce465e9c3d90ab260e9037e181d7bed6a4039c"
   },
   "outputs": [
    {
     "name": "stdout",
     "output_type": "stream",
     "text": [
      "{'about', \"weren't\", 'these', \"she's\", 'further', 'themselves', 'down', \"didn't\", 'her', 'were', 'him', \"isn't\", 'that', 'being', 'as', 'be', 'ain', \"shouldn't\", 'when', 'then', 'his', 'but', 'me', 'hasn', 'shan', 'where', 'by', 'in', 'because', 'theirs', 'am', 'can', \"hadn't\", 'here', 'hers', 'aren', \"shan't\", 'does', 'some', 'above', 'why', 'each', 'only', 'has', 'more', 'for', 'below', \"should've\", 'doesn', 'before', 'd', 'needn', 'ma', 't', 'yours', 'under', 'wouldn', 'if', 'yourself', 'during', 'now', 'both', 'it', 'up', 'this', 'same', 'its', \"mustn't\", 'you', 'our', 'what', 'any', 'very', 'will', 'had', 'their', 'isn', 'from', 'don', 'yourselves', 'been', 'should', 'through', 'i', 'my', 'mightn', \"won't\", 'between', 'and', 'on', 'himself', 'whom', 'do', 'your', 'over', 'those', \"aren't\", 'once', \"mightn't\", 'myself', \"needn't\", \"don't\", \"that'll\", 'we', 'haven', 'again', 'mustn', \"doesn't\", 've', 'are', 'doing', \"it's\", 'at', \"haven't\", \"you'll\", 'herself', \"wasn't\", 'y', 'weren', 'he', 'off', 're', 'is', \"you'd\", \"you're\", 'nor', 'or', 'how', 'no', \"wouldn't\", 'not', 'just', 'shouldn', 'the', 'wasn', 'other', 'with', 'there', 'of', 'all', 'than', 'having', 'while', 'who', 'them', 'ours', 'couldn', 'into', 'most', 'have', \"hasn't\", 'm', 'she', 'll', 'such', 'o', 'so', 'itself', 'against', 'few', 'to', 'after', 'a', \"you've\", 'ourselves', 'they', 'did', 'too', 'hadn', \"couldn't\", 'out', 'won', 'didn', 'which', 's', 'was', 'an', 'until', 'own'}\n",
      "************************************\n",
      "tasti\n"
     ]
    }
   ],
   "source": [
    "import re\n",
    "import string\n",
    "from nltk.corpus import stopwords\n",
    "from nltk.stem import PorterStemmer\n",
    "from nltk.stem.wordnet import WordNetLemmatizer\n",
    "import nltk\n",
    "\n",
    "stop = set(stopwords.words('english')) #set of stopwords\n",
    "sno = nltk.stem.SnowballStemmer('english') #initialising the snowball stemmer\n",
    "\n",
    "def cleanhtml(sentence): #function to clean the word of any html-tags\n",
    "    cleanr = re.compile('<.*?>')\n",
    "    cleantext = re.sub(cleanr, ' ', sentence)\n",
    "    return cleantext\n",
    "def cleanpunc(sentence): #function to clean the word of any punctuation or special characters\n",
    "    cleaned = re.sub(r'[?|!|\\'|\"|#]',r'',sentence)\n",
    "    cleaned = re.sub(r'[.|,|)|(|\\|/]',r' ',cleaned)\n",
    "    return  cleaned\n",
    "print(stop)\n",
    "print('************************************')\n",
    "print(sno.stem('tasty'))"
   ]
  },
  {
   "cell_type": "code",
   "execution_count": 17,
   "metadata": {
    "_uuid": "f58acbb1ecf466c97f31a6b43fdd9f60f10feb97",
    "collapsed": true
   },
   "outputs": [],
   "source": [
    "\n",
    "i=0\n",
    "str1=' '\n",
    "final_string=[]\n",
    "all_positive_words=[] \n",
    "all_negative_words=[] \n",
    "s=''\n",
    "for sent in final['Text'].values:\n",
    "    filtered_sentence=[]\n",
    "    #print(sent);\n",
    "    sent=cleanhtml(sent) # remove HTMl tags\n",
    "    for w in sent.split():\n",
    "        for cleaned_words in cleanpunc(w).split():\n",
    "            if((cleaned_words.isalpha()) & (len(cleaned_words)>2)):    \n",
    "                if(cleaned_words.lower() not in stop):\n",
    "                    s=(sno.stem(cleaned_words.lower())).encode('utf8')\n",
    "                    filtered_sentence.append(s)\n",
    "                    if (final['Score'].values)[i] == 'positive': \n",
    "                        all_positive_words.append(s) #list of all words used to describe positive reviews\n",
    "                    if(final['Score'].values)[i] == 'negative':\n",
    "                        all_negative_words.append(s) #list of all words used to describe negative reviews reviews\n",
    "                else:\n",
    "                    continue\n",
    "            else:\n",
    "                continue \n",
    "    #print(filtered_sentence)\n",
    "    str1 = b\" \".join(filtered_sentence) #final string of cleaned words\n",
    "    #print(\"***********************************************************************\")\n",
    "    \n",
    "    final_string.append(str1)\n",
    "    i+=1"
   ]
  },
  {
   "cell_type": "code",
   "execution_count": 20,
   "metadata": {
    "_uuid": "679e8eaa0be36c72a6bbaab0f2d1550a81d739a4",
    "collapsed": true
   },
   "outputs": [],
   "source": [
    "final['CleanedText']=final_string "
   ]
  },
  {
   "cell_type": "code",
   "execution_count": 21,
   "metadata": {
    "_uuid": "cd859960f504ebe1f8b194fd1d49590bf07d3524"
   },
   "outputs": [],
   "source": [
    "final.head(3)\n",
    "\n",
    "\n",
    "# store final table into an SQlLite table for future.\n",
    "conn = sqlite3.connect('final.sqlite')\n",
    "c=conn.cursor()\n",
    "conn.text_factory = str\n",
    "final.to_sql('Reviews', conn, schema=None, if_exists='replace', index=True, index_label=None, chunksize=None, dtype=None)"
   ]
  },
  {
   "cell_type": "code",
   "execution_count": 22,
   "metadata": {
    "_uuid": "5d84ba9d78a1a2b4aecd7ecbca42300868ef040d",
    "collapsed": true
   },
   "outputs": [],
   "source": [
    "import sqlite3\n",
    "con = sqlite3.connect(\"final.sqlite\")"
   ]
  },
  {
   "cell_type": "code",
   "execution_count": 23,
   "metadata": {
    "_uuid": "867bd2475bf898622a9d3484e1e1815f687196d8",
    "collapsed": true
   },
   "outputs": [],
   "source": [
    "cleaned_data = pd.read_sql_query(\"select * from Reviews\", con)"
   ]
  },
  {
   "cell_type": "code",
   "execution_count": 24,
   "metadata": {
    "_uuid": "fa2e32bc620c2986e632aebcc9e5f55af5b0b5aa"
   },
   "outputs": [
    {
     "data": {
      "text/plain": [
       "(364171, 12)"
      ]
     },
     "execution_count": 24,
     "metadata": {},
     "output_type": "execute_result"
    }
   ],
   "source": [
    "cleaned_data.shape"
   ]
  },
  {
   "cell_type": "code",
   "execution_count": 40,
   "metadata": {
    "_uuid": "8031970ed4562a4b10a5c63aca7ad6cb769c2855"
   },
   "outputs": [
    {
     "data": {
      "text/plain": [
       "(40000, 12)"
      ]
     },
     "execution_count": 40,
     "metadata": {},
     "output_type": "execute_result"
    }
   ],
   "source": [
    "data_pos = cleaned_data[cleaned_data[\"Score\"] == \"positive\"].sample(n = 20000)\n",
    "data_neg = cleaned_data[cleaned_data[\"Score\"] == \"negative\"].sample(n = 20000)\n",
    "final_40k = pd.concat([data_pos, data_neg])\n",
    "final_40k.shape"
   ]
  },
  {
   "cell_type": "code",
   "execution_count": 41,
   "metadata": {
    "_uuid": "4e862c657993323b16115aafcd7bc1599f2cd578"
   },
   "outputs": [],
   "source": [
    "# Sorting data based on time\n",
    "final_40k[\"Time\"] = pd.to_datetime(final_20k[\"Time\"], unit = \"s\")\n",
    "final_40k = final_40k.sort_values(by = \"Time\")"
   ]
  },
  {
   "cell_type": "code",
   "execution_count": 42,
   "metadata": {
    "_uuid": "df9f5a962e4821960d3cdc73b22a0dd9e07be1ca"
   },
   "outputs": [
    {
     "data": {
      "text/html": [
       "<div>\n",
       "<style>\n",
       "    .dataframe thead tr:only-child th {\n",
       "        text-align: right;\n",
       "    }\n",
       "\n",
       "    .dataframe thead th {\n",
       "        text-align: left;\n",
       "    }\n",
       "\n",
       "    .dataframe tbody tr th {\n",
       "        vertical-align: top;\n",
       "    }\n",
       "</style>\n",
       "<table border=\"1\" class=\"dataframe\">\n",
       "  <thead>\n",
       "    <tr style=\"text-align: right;\">\n",
       "      <th></th>\n",
       "      <th>index</th>\n",
       "      <th>Id</th>\n",
       "      <th>ProductId</th>\n",
       "      <th>UserId</th>\n",
       "      <th>ProfileName</th>\n",
       "      <th>HelpfulnessNumerator</th>\n",
       "      <th>HelpfulnessDenominator</th>\n",
       "      <th>Score</th>\n",
       "      <th>Time</th>\n",
       "      <th>Summary</th>\n",
       "      <th>Text</th>\n",
       "      <th>CleanedText</th>\n",
       "    </tr>\n",
       "  </thead>\n",
       "  <tbody>\n",
       "    <tr>\n",
       "      <th>365</th>\n",
       "      <td>346040</td>\n",
       "      <td>374342</td>\n",
       "      <td>B00004CI84</td>\n",
       "      <td>A10L8O1ZMUIMR2</td>\n",
       "      <td>G. Kleinschmidt</td>\n",
       "      <td>61</td>\n",
       "      <td>79</td>\n",
       "      <td>negative</td>\n",
       "      <td>2002-12-27</td>\n",
       "      <td>Great movie turned bad</td>\n",
       "      <td>Just to let you know, this movie is one of my ...</td>\n",
       "      <td>b'let know movi one person favorit ghost movi ...</td>\n",
       "    </tr>\n",
       "    <tr>\n",
       "      <th>488</th>\n",
       "      <td>121056</td>\n",
       "      <td>131233</td>\n",
       "      <td>B00004RAMX</td>\n",
       "      <td>A1PYZPS1QYR036</td>\n",
       "      <td>Kazantzakis \"hinterlands\"</td>\n",
       "      <td>5</td>\n",
       "      <td>8</td>\n",
       "      <td>negative</td>\n",
       "      <td>2003-10-29</td>\n",
       "      <td>Woodstream Gopher Trap 0610</td>\n",
       "      <td>This is a poor excuse for a gopher trap. I hav...</td>\n",
       "      <td>b'poor excus gopher trap lot gopher use trap r...</td>\n",
       "    </tr>\n",
       "    <tr>\n",
       "      <th>10440</th>\n",
       "      <td>222668</td>\n",
       "      <td>241459</td>\n",
       "      <td>B0001E5CJO</td>\n",
       "      <td>A1SO8AE23KZ0HZ</td>\n",
       "      <td>Echo \"Echo\"</td>\n",
       "      <td>4</td>\n",
       "      <td>4</td>\n",
       "      <td>positive</td>\n",
       "      <td>2004-07-17</td>\n",
       "      <td>Dark, twisted, and underrated (just how I like...</td>\n",
       "      <td>As one of the few who caught this on cable in ...</td>\n",
       "      <td>b'one caught cabl earli attest disturb natur f...</td>\n",
       "    </tr>\n",
       "  </tbody>\n",
       "</table>\n",
       "</div>"
      ],
      "text/plain": [
       "        index      Id   ProductId          UserId                ProfileName  \\\n",
       "365    346040  374342  B00004CI84  A10L8O1ZMUIMR2            G. Kleinschmidt   \n",
       "488    121056  131233  B00004RAMX  A1PYZPS1QYR036  Kazantzakis \"hinterlands\"   \n",
       "10440  222668  241459  B0001E5CJO  A1SO8AE23KZ0HZ                Echo \"Echo\"   \n",
       "\n",
       "       HelpfulnessNumerator  HelpfulnessDenominator     Score       Time  \\\n",
       "365                      61                      79  negative 2002-12-27   \n",
       "488                       5                       8  negative 2003-10-29   \n",
       "10440                     4                       4  positive 2004-07-17   \n",
       "\n",
       "                                                 Summary  \\\n",
       "365                               Great movie turned bad   \n",
       "488                          Woodstream Gopher Trap 0610   \n",
       "10440  Dark, twisted, and underrated (just how I like...   \n",
       "\n",
       "                                                    Text  \\\n",
       "365    Just to let you know, this movie is one of my ...   \n",
       "488    This is a poor excuse for a gopher trap. I hav...   \n",
       "10440  As one of the few who caught this on cable in ...   \n",
       "\n",
       "                                             CleanedText  \n",
       "365    b'let know movi one person favorit ghost movi ...  \n",
       "488    b'poor excus gopher trap lot gopher use trap r...  \n",
       "10440  b'one caught cabl earli attest disturb natur f...  "
      ]
     },
     "execution_count": 42,
     "metadata": {},
     "output_type": "execute_result"
    }
   ],
   "source": [
    "final_d=final_40k.sort_values(by='Time')\n",
    "final_d.head(3)"
   ]
  },
  {
   "cell_type": "code",
   "execution_count": 43,
   "metadata": {},
   "outputs": [
    {
     "data": {
      "text/plain": [
       "(40000,)"
      ]
     },
     "execution_count": 43,
     "metadata": {},
     "output_type": "execute_result"
    }
   ],
   "source": [
    "X=final_d[\"CleanedText\"]\n",
    "X.shape"
   ]
  },
  {
   "cell_type": "code",
   "execution_count": 44,
   "metadata": {},
   "outputs": [
    {
     "data": {
      "text/plain": [
       "(40000,)"
      ]
     },
     "execution_count": 44,
     "metadata": {},
     "output_type": "execute_result"
    }
   ],
   "source": [
    "y=final_d[\"Score\"]\n",
    "y.shape"
   ]
  },
  {
   "cell_type": "code",
   "execution_count": 45,
   "metadata": {
    "collapsed": true
   },
   "outputs": [],
   "source": [
    "#split the data into train and test fo bag of words\n",
    "\n",
    "X_train,X_test,Y_train,Y_test=train_test_split(X,y,test_size=0.3,random_state=None)\n",
    "#split train into cross val train and cross val test\n",
    "X_t,X_cv,Y_t,Y_cv=train_test_split(X_train,Y_train,test_size=0.3)"
   ]
  },
  {
   "cell_type": "code",
   "execution_count": 46,
   "metadata": {},
   "outputs": [
    {
     "name": "stdout",
     "output_type": "stream",
     "text": [
      "(28000,) (12000,) (28000,) (12000,)\n"
     ]
    }
   ],
   "source": [
    "print(X_train.shape,X_test.shape,Y_train.shape,Y_test.shape)"
   ]
  },
  {
   "cell_type": "markdown",
   "metadata": {},
   "source": [
    "# Bag of Words"
   ]
  },
  {
   "cell_type": "code",
   "execution_count": 48,
   "metadata": {},
   "outputs": [
    {
     "name": "stdout",
     "output_type": "stream",
     "text": [
      "the type of count vectorizer is: <class 'scipy.sparse.csr.csr_matrix'>\n"
     ]
    }
   ],
   "source": [
    "#Bag of Words\n",
    "BoW=CountVectorizer()\n",
    "X_train=BoW.fit_transform(X_train)\n",
    "#X_train=StandardScaler(with_mean=False).fit_transform(X_train)\n",
    "x_test=BoW.transform(X_test)\n",
    "#X_test=StandardScaler(with_mean=False).fit_transform(x_test)\n",
    "print(\"the type of count vectorizer is:\",type(X_train))\n",
    "from sklearn import preprocessing\n",
    "X_train=preprocessing.normalize(X_train)\n",
    "X_test=preprocessing.normalize(x_test)\n",
    "#X_test=StandardScaler(with_mean=False).fit_transform(x_test)"
   ]
  },
  {
   "cell_type": "code",
   "execution_count": 49,
   "metadata": {},
   "outputs": [
    {
     "name": "stdout",
     "output_type": "stream",
     "text": [
      "Train Data Size:  (28000, 21371)\n",
      "Test Data Size:  (12000, 21371)\n"
     ]
    }
   ],
   "source": [
    "print(\"Train Data Size: \",X_train.shape)\n",
    "print(\"Test Data Size: \",X_test.shape)"
   ]
  },
  {
   "cell_type": "markdown",
   "metadata": {},
   "source": [
    "# Optimal K"
   ]
  },
  {
   "cell_type": "code",
   "execution_count": 50,
   "metadata": {},
   "outputs": [
    {
     "name": "stdout",
     "output_type": "stream",
     "text": [
      "\n",
      " the optimal k is 13.\n"
     ]
    }
   ],
   "source": [
    "#with either k=8 or 9 we get best accuracy for test to be 91%,now with 10 fold cross validation we have to see if our ccuracy improves\n",
    "n_list=list(range(0,15))\n",
    "neighb=list(filter(lambda x: x % 2 != 0, n_list))\n",
    "#create a list of cross-val scores\n",
    "scores_cv=[]\n",
    "for k in neighb:\n",
    "    knn=KNeighborsClassifier(n_neighbors=k,algorithm=\"brute\")\n",
    "    scores=cross_val_score(knn,X_train,Y_train,cv=3,scoring='accuracy')\n",
    "    scores_cv.append(scores.mean())\n",
    "\n",
    "#Find misclassification error(i.e)how much data is misclassified\n",
    "\n",
    "MSE=[1-x for x in scores_cv]\n",
    "\n",
    "#find optimal k\n",
    "\n",
    "optimal_k=neighb[MSE.index(min(MSE))]\n",
    "print('\\n the optimal k is %d.' % optimal_k)"
   ]
  },
  {
   "cell_type": "code",
   "execution_count": 51,
   "metadata": {},
   "outputs": [
    {
     "name": "stdout",
     "output_type": "stream",
     "text": [
      "the type of count vectorizer is: <class 'scipy.sparse.csr.csr_matrix'>\n"
     ]
    }
   ],
   "source": [
    "print(\"the type of count vectorizer is:\",type(x_test))"
   ]
  },
  {
   "cell_type": "code",
   "execution_count": 52,
   "metadata": {},
   "outputs": [
    {
     "name": "stdout",
     "output_type": "stream",
     "text": [
      "\n",
      " the accuracy score for bag of words model with optimal k=13 is 74.741667%\n"
     ]
    }
   ],
   "source": [
    "#KNN with optimal k and test accuracy for bag of words\n",
    "from sklearn.neighbors import KNeighborsClassifier\n",
    "knn_opt=KNeighborsClassifier(n_neighbors=optimal_k,algorithm=\"brute\")\n",
    "#fit the model\n",
    "knn_opt.fit(X_train,Y_train)\n",
    "#predict the model\n",
    "prediction=knn_opt.predict(x_test)\n",
    "\n",
    "#the accuracy score\n",
    "acc_score=accuracy_score(Y_test,prediction)* 100\n",
    "print('\\n the accuracy score for bag of words model with optimal k=%d is %f%%' %(optimal_k,acc_score))"
   ]
  },
  {
   "cell_type": "code",
   "execution_count": 81,
   "metadata": {},
   "outputs": [
    {
     "data": {
      "image/png": "[encoded data removed]",
      "text/plain": [
       "<Figure size 432x288 with 2 Axes>"
      ]
     },
     "metadata": {},
     "output_type": "display_data"
    }
   ],
   "source": [
    "from sklearn.metrics import confusion_matrix\n",
    "import seaborn as sns\n",
    "conf_matr_df = pd.DataFrame(confusion_matrix(Y_test, prediction), range(2),range(2))\n",
    "sns.set(font_scale=1.4)#for label size\n",
    "sns.heatmap(conf_matr_df, annot=True,annot_kws={\"size\": 10}, fmt='g')\n",
    "plt.title(\"Confusiion Matrix\")\n",
    "plt.xlabel(\"Predicted Label\")\n",
    "plt.ylabel(\"True Label\")\n",
    "plt.show()"
   ]
  },
  {
   "cell_type": "code",
   "execution_count": 57,
   "metadata": {},
   "outputs": [
    {
     "name": "stdout",
     "output_type": "stream",
     "text": [
      "              precision    recall  f1-score   support\n",
      "\n",
      "    negative       0.75      0.75      0.75      5978\n",
      "    positive       0.75      0.75      0.75      6022\n",
      "\n",
      "   micro avg       0.75      0.75      0.75     12000\n",
      "   macro avg       0.75      0.75      0.75     12000\n",
      "weighted avg       0.75      0.75      0.75     12000\n",
      "\n"
     ]
    }
   ],
   "source": [
    "from sklearn.metrics import classification_report,precision_score,recall_score\n",
    "\n",
    "print(classification_report(Y_test,prediction))"
   ]
  },
  {
   "cell_type": "markdown",
   "metadata": {},
   "source": [
    "# TF-IDF KNN"
   ]
  },
  {
   "cell_type": "code",
   "execution_count": 62,
   "metadata": {
    "collapsed": true
   },
   "outputs": [],
   "source": [
    "from sklearn.feature_extraction.text import TfidfTransformer\n",
    "from sklearn.feature_extraction.text import TfidfVectorizer\n",
    "from sklearn.feature_extraction.text import CountVectorizer\n",
    "from sklearn.metrics import confusion_matrix,accuracy_score\n",
    "from sklearn import metrics"
   ]
  },
  {
   "cell_type": "code",
   "execution_count": 63,
   "metadata": {},
   "outputs": [],
   "source": [
    "X_train,X_test,Y_train,Y_test=train_test_split(X,y,test_size=0.3,random_state=0)\n",
    "#split train into cross val train and cross val test\n",
    "X_t,X_cv,Y_t,Y_cv=train_test_split(X_train,Y_train,test_size=0.3)"
   ]
  },
  {
   "cell_type": "code",
   "execution_count": 64,
   "metadata": {},
   "outputs": [
    {
     "name": "stdout",
     "output_type": "stream",
     "text": [
      "(28000, 21615) (12000, 21615)\n"
     ]
    }
   ],
   "source": [
    "tf_idf_vect=TfidfVectorizer()\n",
    "final_tfidf_vect=tf_idf_vect.fit_transform(X_train)\n",
    "final_test_tfidf_vect=tf_idf_vect.transform(X_test)\n",
    "from sklearn import preprocessing\n",
    "X_train=preprocessing.normalize(final_tfidf_vect)\n",
    "X_test=preprocessing.normalize(final_test_tfidf_vect)\n",
    "final_tfidf_vect.get_shape(),final_test_tfidf_vect.get_shape()\n",
    "print(X_train.shape,X_test.shape)"
   ]
  },
  {
   "cell_type": "code",
   "execution_count": 65,
   "metadata": {
    "collapsed": true
   },
   "outputs": [],
   "source": [
    "X_train=final_tfidf_vect\n",
    "X_test=final_test_tfidf_vect"
   ]
  },
  {
   "cell_type": "code",
   "execution_count": 66,
   "metadata": {},
   "outputs": [
    {
     "data": {
      "text/plain": [
       "(12000,)"
      ]
     },
     "execution_count": 66,
     "metadata": {},
     "output_type": "execute_result"
    }
   ],
   "source": [
    "Y_test.shape"
   ]
  },
  {
   "cell_type": "markdown",
   "metadata": {},
   "source": [
    "# Optimal K"
   ]
  },
  {
   "cell_type": "code",
   "execution_count": 67,
   "metadata": {},
   "outputs": [
    {
     "name": "stdout",
     "output_type": "stream",
     "text": [
      "\n",
      " the optimal k is 19.\n"
     ]
    }
   ],
   "source": [
    "#for finding optimal k with odd list for neighbors\n",
    "n_list=list(range(0,20))\n",
    "neighb=list(filter(lambda x: x % 2 != 0, n_list))\n",
    "#create a list of cross-val scores\n",
    "scores_cv=[]\n",
    "for k in neighb:\n",
    "    knn=KNeighborsClassifier(n_neighbors=k,algorithm=\"brute\")\n",
    "    scores=cross_val_score(knn,X_train,Y_train,cv=3,scoring='accuracy')\n",
    "    scores_cv.append(scores.mean())\n",
    "\n",
    "#Find misclassification error(i.e)how much data is misclassified\n",
    "\n",
    "MSE=[1-x for x in scores_cv]\n",
    "\n",
    "#find optimal k\n",
    "\n",
    "optimal_k=neighb[MSE.index(min(MSE))]\n",
    "print('\\n the optimal k is %d.' % optimal_k)"
   ]
  },
  {
   "cell_type": "code",
   "execution_count": 68,
   "metadata": {},
   "outputs": [
    {
     "name": "stdout",
     "output_type": "stream",
     "text": [
      "\n",
      " the accuracy score for bag of words model with optimal k=19 is 73.766667%\n"
     ]
    }
   ],
   "source": [
    "#KNN with optimal k and test accuracy for tf_idf model\n",
    "\n",
    "knn_opt=KNeighborsClassifier(n_neighbors=optimal_k,algorithm=\"brute\")\n",
    "#fit the model\n",
    "knn_opt.fit(X_train,Y_train)\n",
    "#predict the model\n",
    "prediction=knn_opt.predict(X_test)\n",
    "\n",
    "#the accuracy score\n",
    "acc_score=accuracy_score(Y_test,prediction)* 100\n",
    "print('\\n the accuracy score for bag of words model with optimal k=%d is %f%%' %(optimal_k,acc_score))"
   ]
  },
  {
   "cell_type": "code",
   "execution_count": 80,
   "metadata": {},
   "outputs": [
    {
     "data": {
      "image/png": "[encoded data removed]",
      "text/plain": [
       "<Figure size 432x288 with 2 Axes>"
      ]
     },
     "metadata": {},
     "output_type": "display_data"
    }
   ],
   "source": [
    "conf_matr_df = pd.DataFrame(confusion_matrix(Y_test, prediction), range(2),range(2))\n",
    "sns.set(font_scale=1.4)#for label size\n",
    "sns.heatmap(conf_matr_df, annot=True,annot_kws={\"size\":9}, fmt='g')\n",
    "plt.title(\"Confusiion Matrix\")\n",
    "plt.xlabel(\"Predicted Label\")\n",
    "plt.ylabel(\"True Label\")\n",
    "plt.show()"
   ]
  },
  {
   "cell_type": "code",
   "execution_count": 70,
   "metadata": {},
   "outputs": [
    {
     "name": "stdout",
     "output_type": "stream",
     "text": [
      "              precision    recall  f1-score   support\n",
      "\n",
      "    negative       0.75      0.70      0.73      5993\n",
      "    positive       0.72      0.77      0.75      6007\n",
      "\n",
      "   micro avg       0.74      0.74      0.74     12000\n",
      "   macro avg       0.74      0.74      0.74     12000\n",
      "weighted avg       0.74      0.74      0.74     12000\n",
      "\n"
     ]
    }
   ],
   "source": [
    "from sklearn.metrics import classification_report,precision_score,recall_score\n",
    "\n",
    "print(classification_report(Y_test,prediction))"
   ]
  },
  {
   "cell_type": "markdown",
   "metadata": {},
   "source": [
    "Observations\n",
    "\n",
    "Recall(TPR) from the confusion matrix is: 73%\n",
    "Precision=73%"
   ]
  }
 ],
 "metadata": {
  "kernelspec": {
   "display_name": "Python 3",
   "language": "python",
   "name": "python3"
  },
  "language_info": {
   "codemirror_mode": {
    "name": "ipython",
    "version": 3
   },
   "file_extension": ".py",
   "mimetype": "text/x-python",
   "name": "python",
   "nbconvert_exporter": "python",
   "pygments_lexer": "ipython3",
   "version": "3.6.3"
  }
 },
 "nbformat": 4,
 "nbformat_minor": 1
}
